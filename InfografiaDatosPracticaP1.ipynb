{
  "nbformat": 4,
  "nbformat_minor": 0,
  "metadata": {
    "colab": {
      "provenance": [],
      "authorship_tag": "ABX9TyMQRwsUKDZzyw/44mVefQLF",
      "include_colab_link": true
    },
    "kernelspec": {
      "name": "python3",
      "display_name": "Python 3"
    },
    "language_info": {
      "name": "python"
    }
  },
  "cells": [
    {
      "cell_type": "markdown",
      "metadata": {
        "id": "view-in-github",
        "colab_type": "text"
      },
      "source": [
        "<a href=\"https://colab.research.google.com/github/jreinava-uoc/uocInfografiaPracticaP1/blob/main/InfografiaDatosPracticaP1.ipynb\" target=\"_parent\"><img src=\"https://colab.research.google.com/assets/colab-badge.svg\" alt=\"Open In Colab\"/></a>"
      ]
    },
    {
      "cell_type": "markdown",
      "source": [
        "# Conversión de datos\n",
        "Vamos a convertir los datos descargados de Eurostat para hacer mas facil su tratamiento con Tableau"
      ],
      "metadata": {
        "id": "IxnXla86BI5I"
      }
    },
    {
      "cell_type": "code",
      "execution_count": 24,
      "metadata": {
        "id": "zrg48cEG6rZD"
      },
      "outputs": [],
      "source": [
        "#@title Carga de datos desde github.\n",
        "import pandas as pd\n",
        "url='https://raw.githubusercontent.com/jreinava-uoc/uocInfografiaPracticaP1/main/ilc_mdsd11.csv'\n",
        "datosOrigen = pd.read_csv(url, sep=';')"
      ]
    },
    {
      "cell_type": "code",
      "source": [
        "#@title Aplanar datos desde columnas a una fila para su mejor tratamiento\n",
        "datosOrigen = pd.melt(datosOrigen,id_vars=['GEO','AGE'], value_vars=['2014_Males',\\\n",
        "'2014_Females',\\\n",
        "'2015_Males',\\\n",
        "'2015_Females',\\\n",
        "'2016_Males',\\\n",
        "'2016_Females',\\\n",
        "'2017_Males',\\\n",
        "'2017_Females',\\\n",
        "'2018_Males',\\\n",
        "'2018_Females',\\\n",
        "'2019_Males',\\\n",
        "'2019_Females',\\\n",
        "'2020_Males',\\\n",
        "'2020_Females',\\\n",
        "'2021_Males',\\\n",
        "'2021_Females',\\\n",
        "'2022_Males',\\\n",
        "'2022_Females'],var_name='year_sex', value_name='PovertyRate')"
      ],
      "metadata": {
        "cellView": "form",
        "id": "fWN2LcmH-ZNq"
      },
      "execution_count": 25,
      "outputs": []
    },
    {
      "cell_type": "code",
      "source": [
        "#@title Separamos la columna año y sexo en dos columnas\n",
        "datosOrigen[['Year', 'Sex']] = datosOrigen['year_sex'].str.split('_', expand=True)\n",
        "datosOrigen=datosOrigen.drop(columns=['year_sex'])\n",
        "cols = ['GEO', 'AGE', 'Year', 'Sex', 'PovertyRate']\n",
        "datosOrigen = datosOrigen[cols]"
      ],
      "metadata": {
        "cellView": "form",
        "id": "nBsHwRNl_sDs"
      },
      "execution_count": 26,
      "outputs": []
    },
    {
      "cell_type": "code",
      "source": [
        "#@title Comprobamos si hay filas duplicadas\n",
        "# Si el numero de registros es igual al numero de registros unicos es que no hay duplicados.\n",
        "len(datosOrigen) - len(datosOrigen[['GEO','AGE','Year','Sex']].value_counts().reset_index(name='count'))"
      ],
      "metadata": {
        "colab": {
          "base_uri": "https://localhost:8080/"
        },
        "cellView": "form",
        "id": "D1ih67e8Anhm",
        "outputId": "88638e4f-e369-4835-e67e-2ed31ad45f76"
      },
      "execution_count": 27,
      "outputs": [
        {
          "output_type": "execute_result",
          "data": {
            "text/plain": [
              "0"
            ]
          },
          "metadata": {},
          "execution_count": 27
        }
      ]
    },
    {
      "cell_type": "code",
      "source": [
        "#@title Descargar csv modificado\n",
        "datosOrigen.to_csv(\"ilc_mdsd11_modificado.csv\")\n",
        "from google.colab import files\n",
        "files.download(\"ilc_mdsd11_modificado.csv\")"
      ],
      "metadata": {
        "colab": {
          "base_uri": "https://localhost:8080/",
          "height": 17
        },
        "id": "HyBjUFjACzsw",
        "outputId": "24569791-34ef-4f94-d4ef-7b9c3a005074"
      },
      "execution_count": 28,
      "outputs": [
        {
          "output_type": "display_data",
          "data": {
            "text/plain": [
              "<IPython.core.display.Javascript object>"
            ],
            "application/javascript": [
              "\n",
              "    async function download(id, filename, size) {\n",
              "      if (!google.colab.kernel.accessAllowed) {\n",
              "        return;\n",
              "      }\n",
              "      const div = document.createElement('div');\n",
              "      const label = document.createElement('label');\n",
              "      label.textContent = `Downloading \"${filename}\": `;\n",
              "      div.appendChild(label);\n",
              "      const progress = document.createElement('progress');\n",
              "      progress.max = size;\n",
              "      div.appendChild(progress);\n",
              "      document.body.appendChild(div);\n",
              "\n",
              "      const buffers = [];\n",
              "      let downloaded = 0;\n",
              "\n",
              "      const channel = await google.colab.kernel.comms.open(id);\n",
              "      // Send a message to notify the kernel that we're ready.\n",
              "      channel.send({})\n",
              "\n",
              "      for await (const message of channel.messages) {\n",
              "        // Send a message to notify the kernel that we're ready.\n",
              "        channel.send({})\n",
              "        if (message.buffers) {\n",
              "          for (const buffer of message.buffers) {\n",
              "            buffers.push(buffer);\n",
              "            downloaded += buffer.byteLength;\n",
              "            progress.value = downloaded;\n",
              "          }\n",
              "        }\n",
              "      }\n",
              "      const blob = new Blob(buffers, {type: 'application/binary'});\n",
              "      const a = document.createElement('a');\n",
              "      a.href = window.URL.createObjectURL(blob);\n",
              "      a.download = filename;\n",
              "      div.appendChild(a);\n",
              "      a.click();\n",
              "      div.remove();\n",
              "    }\n",
              "  "
            ]
          },
          "metadata": {}
        },
        {
          "output_type": "display_data",
          "data": {
            "text/plain": [
              "<IPython.core.display.Javascript object>"
            ],
            "application/javascript": [
              "download(\"download_eff7bb51-246f-481e-9980-72e717c6f292\", \"ilc_mdsd11_modificado.csv\", 1311425)"
            ]
          },
          "metadata": {}
        }
      ]
    }
  ]
}